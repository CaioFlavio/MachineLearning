{
 "cells": [
  {
   "cell_type": "code",
   "execution_count": 35,
   "metadata": {},
   "outputs": [
    {
     "name": "stdout",
     "output_type": "stream",
     "text": [
      "[4.   4.02 4.04 ... 5.   5.   5.  ]\n"
     ]
    }
   ],
   "source": [
    "from scipy.misc import derivative\n",
    "import numpy as np\n",
    "\n",
    "## Step 1: Define the used function\n",
    "def f(x):\n",
    "    return (x-5)**2\n",
    "\n",
    "## Step 2: Define the gradient algoritm parameters\n",
    "algoritm_start_value = 4\n",
    "learning_rate = 0.01\n",
    "\n",
    "## Step 3: Make learning loop\n",
    "def gradient_function(gradient_point = 0, learning_rate = 0.01, max_loops = 1000):\n",
    "    gradient_list = []\n",
    "    gradient_list.append(gradient_point)\n",
    "    iteration_count = 0\n",
    "    while iteration_count < max_loops:\n",
    "        # Use gradient descent formula to reach the local minimum X1 - f'(X0) * lr\n",
    "        gradient_descent_result = gradient_list[iteration_count] - (learning_rate * derivative(f, gradient_list[iteration_count]))\n",
    "        gradient_list.append(gradient_descent_result)\n",
    "        iteration_count += 1\n",
    "    return np.round(a = gradient_list, decimals=2)\n",
    "\n",
    "print(gradient_function(algoritm_start_value))"
   ]
  },
  {
   "cell_type": "code",
   "execution_count": null,
   "metadata": {},
   "outputs": [],
   "source": []
  }
 ],
 "metadata": {
  "kernelspec": {
   "display_name": "Python 2",
   "language": "python",
   "name": "python2"
  },
  "language_info": {
   "codemirror_mode": {
    "name": "ipython",
    "version": 2
   },
   "file_extension": ".py",
   "mimetype": "text/x-python",
   "name": "python",
   "nbconvert_exporter": "python",
   "pygments_lexer": "ipython2",
   "version": "2.7.15"
  }
 },
 "nbformat": 4,
 "nbformat_minor": 2
}
