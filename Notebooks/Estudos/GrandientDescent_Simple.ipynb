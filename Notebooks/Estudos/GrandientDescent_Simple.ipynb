{
 "cells": [
  {
   "cell_type": "code",
   "execution_count": 32,
   "metadata": {},
   "outputs": [
    {
     "name": "stdout",
     "output_type": "stream",
     "text": [
      "5.0\n"
     ]
    }
   ],
   "source": [
    "from scipy.misc import derivative\n",
    "import numpy as np\n",
    "\n",
    "## Step 1: Define the used function\n",
    "def f(x):\n",
    "    return (x-5)**2\n",
    "\n",
    "## Step 2: Define the gradient algoritm parameters\n",
    "algoritm_start_value = 4\n",
    "learning_rate = 0.01\n",
    "\n",
    "## Step 3: Make learning loop\n",
    "def gradient_function(f, gradient_start_point = 0, learning_rate = 0.01, max_loops = 1000, precision = 0.0000001):  \n",
    "    x_0 = gradient_start_point # define grandient formula start value\n",
    "    x_error = float('inf') # sets error to biggest value\n",
    "    \n",
    "    iteration_count = 0\n",
    "    while (iteration_count < max_loops and x_error >= precision):\n",
    "        # save previous value to verify the precision\n",
    "        x_prev = x_0\n",
    "        \n",
    "        # Use gradient descent formula to reach the local minimum x_0 - f'(x_0) * lr\n",
    "        x_0 = (x_0 - (learning_rate * derivative(f, x_0)))\n",
    "        \n",
    "        #calculate precision\n",
    "        x_error = abs(x_0 - x_prev)\n",
    "        \n",
    "        # update iteration count\n",
    "        iteration_count += 1\n",
    "    return np.round(a = x_0, decimals=2)\n",
    "\n",
    "print(gradient_function(f, algoritm_start_value))"
   ]
  },
  {
   "cell_type": "code",
   "execution_count": null,
   "metadata": {},
   "outputs": [],
   "source": []
  },
  {
   "cell_type": "code",
   "execution_count": null,
   "metadata": {},
   "outputs": [],
   "source": []
  },
  {
   "cell_type": "code",
   "execution_count": null,
   "metadata": {},
   "outputs": [],
   "source": []
  }
 ],
 "metadata": {
  "kernelspec": {
   "display_name": "Python 2",
   "language": "python",
   "name": "python2"
  },
  "language_info": {
   "codemirror_mode": {
    "name": "ipython",
    "version": 2
   },
   "file_extension": ".py",
   "mimetype": "text/x-python",
   "name": "python",
   "nbconvert_exporter": "python",
   "pygments_lexer": "ipython2",
   "version": "2.7.15"
  }
 },
 "nbformat": 4,
 "nbformat_minor": 2
}
